{
 "cells": [
  {
   "cell_type": "markdown",
   "id": "9fba0b95",
   "metadata": {},
   "source": [
    "### Welcome to iRacing Fuel Calculator"
   ]
  },
  {
   "cell_type": "markdown",
   "id": "70f9c602",
   "metadata": {},
   "source": [
    "Timed Races:"
   ]
  },
  {
   "cell_type": "code",
   "execution_count": 4,
   "id": "9daa7235",
   "metadata": {},
   "outputs": [
    {
     "name": "stdout",
     "output_type": "stream",
     "text": [
      " Race Fuel:  6.82 \n",
      " Qualifying Fuel:  1.5\n"
     ]
    }
   ],
   "source": [
    "# Inputs\n",
    "fuelPerLap = 0.5\n",
    "raceTimeLength = 40\n",
    "lapTimeMinutes = 2\n",
    "lapTimeSeconds = 56\n",
    "\n",
    "#Calculations\n",
    "lapTime = lapTimeMinutes + lapTimeSeconds / 60\n",
    "lapNum = raceTimeLength / lapTime\n",
    "totalFuel = round(lapNum * fuelPerLap, 2)\n",
    "qualFuel = round(fuelPerLap * 3, 2)\n",
    "\n",
    "print(\" Race Fuel: \",totalFuel,\"\\n\", \"Qualifying Fuel: \", qualFuel)"
   ]
  },
  {
   "cell_type": "markdown",
   "id": "43456cd7",
   "metadata": {},
   "source": [
    "Lap Races:"
   ]
  },
  {
   "cell_type": "code",
   "execution_count": 5,
   "id": "0c8c5e44",
   "metadata": {},
   "outputs": [
    {
     "name": "stdout",
     "output_type": "stream",
     "text": [
      " Race Fuel:  6.5 \n",
      " Qualifying Fuel:  1.5\n"
     ]
    }
   ],
   "source": [
    "# Inputs\n",
    "fuelPerLap = 0.5\n",
    "raceLapLength = 13\n",
    "\n",
    "# Calculations\n",
    "totalFuel = round(fuelPerLap * raceLapLength, 2)\n",
    "qualFuel = round(fuelPerLap * 3, 2)\n",
    "\n",
    "print(\" Race Fuel: \", totalFuel, \"\\n\", \"Qualifying Fuel: \", qualFuel)"
   ]
  }
 ],
 "metadata": {
  "kernelspec": {
   "display_name": "Python 3",
   "language": "python",
   "name": "python3"
  },
  "language_info": {
   "codemirror_mode": {
    "name": "ipython",
    "version": 3
   },
   "file_extension": ".py",
   "mimetype": "text/x-python",
   "name": "python",
   "nbconvert_exporter": "python",
   "pygments_lexer": "ipython3",
   "version": "3.12.0"
  }
 },
 "nbformat": 4,
 "nbformat_minor": 5
}
